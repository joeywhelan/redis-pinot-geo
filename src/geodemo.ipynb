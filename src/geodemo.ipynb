{
 "cells": [
  {
   "cell_type": "markdown",
   "metadata": {},
   "source": [
    "# Scenario 1:  Find Number of Records Indexed"
   ]
  },
  {
   "cell_type": "markdown",
   "metadata": {},
   "source": [
    "## Redis"
   ]
  },
  {
   "cell_type": "code",
   "execution_count": 1,
   "metadata": {
    "vscode": {
     "languageId": "shellscript"
    }
   },
   "outputs": [
    {
     "name": "stdout",
     "output_type": "stream",
     "text": [
      "1# attributes => (empty array)\n",
      "2# warning => (empty array)\n",
      "3# total_results => (integer) 1000000\n",
      "4# format => STRING\n",
      "5# results => (empty array)\n"
     ]
    }
   ],
   "source": [
    "! redis-cli -p 12000 -3 FT.SEARCH locationidx \\* LIMIT 0 0"
   ]
  },
  {
   "cell_type": "markdown",
   "metadata": {},
   "source": [
    "## Pinot"
   ]
  },
  {
   "cell_type": "markdown",
   "metadata": {},
   "source": [
    "```sql\n",
    "SELECT COUNT(*) AS Count\n",
    "FROM locations;\n",
    "```"
   ]
  },
  {
   "cell_type": "code",
   "execution_count": 2,
   "metadata": {
    "vscode": {
     "languageId": "shellscript"
    }
   },
   "outputs": [
    {
     "name": "stdout",
     "output_type": "stream",
     "text": [
      "\u001b[1;39m{\n",
      "  \u001b[0m\u001b[1;34m\"dataSchema\"\u001b[0m\u001b[1;39m: \u001b[0m\u001b[1;39m{\n",
      "    \u001b[0m\u001b[1;34m\"columnNames\"\u001b[0m\u001b[1;39m: \u001b[0m\u001b[1;39m[\n",
      "      \u001b[0;32m\"Count\"\u001b[0m\u001b[1;39m\n",
      "    \u001b[1;39m]\u001b[0m\u001b[1;39m,\n",
      "    \u001b[0m\u001b[1;34m\"columnDataTypes\"\u001b[0m\u001b[1;39m: \u001b[0m\u001b[1;39m[\n",
      "      \u001b[0;32m\"LONG\"\u001b[0m\u001b[1;39m\n",
      "    \u001b[1;39m]\u001b[0m\u001b[1;39m\n",
      "  \u001b[1;39m}\u001b[0m\u001b[1;39m,\n",
      "  \u001b[0m\u001b[1;34m\"rows\"\u001b[0m\u001b[1;39m: \u001b[0m\u001b[1;39m[\n",
      "    \u001b[1;39m[\n",
      "      \u001b[0;39m1000000\u001b[0m\u001b[1;39m\n",
      "    \u001b[1;39m]\u001b[0m\u001b[1;39m\n",
      "  \u001b[1;39m]\u001b[0m\u001b[1;39m\n",
      "\u001b[1;39m}\u001b[0m\n"
     ]
    }
   ],
   "source": [
    "! curl -s -X POST -H \"Content-Type: application/json\" -d @../pinot/s1.json http://localhost:8099/query/sql | jq '.resultTable'"
   ]
  },
  {
   "cell_type": "markdown",
   "metadata": {},
   "source": [
    "# Scenario 2:  Display 1 Sample Record"
   ]
  },
  {
   "cell_type": "markdown",
   "metadata": {},
   "source": [
    "## Redis"
   ]
  },
  {
   "cell_type": "code",
   "execution_count": 3,
   "metadata": {
    "vscode": {
     "languageId": "shellscript"
    }
   },
   "outputs": [
    {
     "name": "stdout",
     "output_type": "stream",
     "text": [
      "1# attributes => (empty array)\n",
      "2# warning => (empty array)\n",
      "3# total_results => (integer) 1000000\n",
      "4# format => STRING\n",
      "5# results => \n",
      "   1) 1# id => \"location:30ab1acf-5dfc-4574-9c9d-0f87b372bbd3\"\n",
      "      2# extra_attributes => 1# \"$\" => \"{\\\"uuid\\\":\\\"30ab1acf-5dfc-4574-9c9d-0f87b372bbd3\\\",\\\"point_lnglat\\\":\\\"-69.79733 43.40754\\\",\\\"point_wkt\\\":\\\"POINT (-69.79733 43.40754)\\\",\\\"dob\\\":1983}\"\n",
      "      3# values => (empty array)\n"
     ]
    }
   ],
   "source": [
    "! redis-cli -p 12000 -3 FT.SEARCH locationidx \\* LIMIT 0 1"
   ]
  },
  {
   "cell_type": "markdown",
   "metadata": {},
   "source": [
    "## Pinot"
   ]
  },
  {
   "cell_type": "markdown",
   "metadata": {},
   "source": [
    "```sql\n",
    "SELECT *\n",
    "FROM locations\n",
    "LIMIT 1;\n",
    "```"
   ]
  },
  {
   "cell_type": "code",
   "execution_count": 4,
   "metadata": {
    "vscode": {
     "languageId": "shellscript"
    }
   },
   "outputs": [
    {
     "name": "stdout",
     "output_type": "stream",
     "text": [
      "\u001b[1;39m{\n",
      "  \u001b[0m\u001b[1;34m\"dataSchema\"\u001b[0m\u001b[1;39m: \u001b[0m\u001b[1;39m{\n",
      "    \u001b[0m\u001b[1;34m\"columnNames\"\u001b[0m\u001b[1;39m: \u001b[0m\u001b[1;39m[\n",
      "      \u001b[0;32m\"dob\"\u001b[0m\u001b[1;39m,\n",
      "      \u001b[0;32m\"point_h3\"\u001b[0m\u001b[1;39m,\n",
      "      \u001b[0;32m\"uuid\"\u001b[0m\u001b[1;39m\n",
      "    \u001b[1;39m]\u001b[0m\u001b[1;39m,\n",
      "    \u001b[0m\u001b[1;34m\"columnDataTypes\"\u001b[0m\u001b[1;39m: \u001b[0m\u001b[1;39m[\n",
      "      \u001b[0;32m\"LONG\"\u001b[0m\u001b[1;39m,\n",
      "      \u001b[0;32m\"BYTES\"\u001b[0m\u001b[1;39m,\n",
      "      \u001b[0;32m\"STRING\"\u001b[0m\u001b[1;39m\n",
      "    \u001b[1;39m]\u001b[0m\u001b[1;39m\n",
      "  \u001b[1;39m}\u001b[0m\u001b[1;39m,\n",
      "  \u001b[0m\u001b[1;34m\"rows\"\u001b[0m\u001b[1;39m: \u001b[0m\u001b[1;39m[\n",
      "    \u001b[1;39m[\n",
      "      \u001b[0;39m1995\u001b[0m\u001b[1;39m,\n",
      "      \u001b[0;32m\"80c052859e83e425af4043ebaf102363b2\"\u001b[0m\u001b[1;39m,\n",
      "      \u001b[0;32m\"20b82310-7869-49b1-833a-d082f723cc37\"\u001b[0m\u001b[1;39m\n",
      "    \u001b[1;39m]\u001b[0m\u001b[1;39m\n",
      "  \u001b[1;39m]\u001b[0m\u001b[1;39m\n",
      "\u001b[1;39m}\u001b[0m\n"
     ]
    }
   ],
   "source": [
    "! curl -s -X POST -H \"Content-Type: application/json\" -d @../pinot/s2.json http://localhost:8099/query/sql | jq '.resultTable'"
   ]
  },
  {
   "cell_type": "markdown",
   "metadata": {},
   "source": [
    "# Find the UUIDs for the 3 closest users to Woodland Park, CO (-105.0810 38.9922) born in 2010 "
   ]
  },
  {
   "cell_type": "markdown",
   "metadata": {},
   "source": [
    "## Redis"
   ]
  },
  {
   "cell_type": "code",
   "execution_count": 5,
   "metadata": {
    "vscode": {
     "languageId": "shellscript"
    }
   },
   "outputs": [
    {
     "name": "stdout",
     "output_type": "stream",
     "text": [
      "1# attributes => (empty array)\n",
      "2# total_results => (integer) 3\n",
      "3# format => STRING\n",
      "4# results => \n",
      "   1) 1# extra_attributes => \n",
      "         1# \"uuid\" => \"0053c263-898f-4bc8-95a4-9d16e19bf572\"\n",
      "         2# \"dob\" => \"2010\"\n",
      "         3# \"point_lnglat\" => \"-105.12016 39.03974\"\n",
      "         4# \"miles\" => \"3.90092985574\"\n",
      "      2# values => (empty array)\n",
      "   2) 1# extra_attributes => \n",
      "         1# \"uuid\" => \"959dac55-29e1-405e-8a7b-48262d469d62\"\n",
      "         2# \"dob\" => \"2010\"\n",
      "         3# \"point_lnglat\" => \"-105.12903 39.05025\"\n",
      "         4# \"miles\" => \"4.7693952476\"\n",
      "      2# values => (empty array)\n",
      "   3) 1# extra_attributes => \n",
      "         1# \"uuid\" => \"1f351056-30b1-44a0-8cc7-92fa34a43c30\"\n",
      "         2# \"dob\" => \"2010\"\n",
      "         3# \"point_lnglat\" => \"-105.07084 38.90167\"\n",
      "         4# \"miles\" => \"6.2805695196\"\n",
      "      2# values => (empty array)\n",
      "5# warning => (empty array)\n"
     ]
    }
   ],
   "source": [
    "! redis-cli -p 12000 -3 FT.AGGREGATE locationidx '@dob:[2010 2010]' LOAD 3 @uuid @dob @point_lnglat APPLY 'geodistance(@point_lnglat, -105.0810, 38.9922) * 0.000621371' AS miles SORTBY 2 @miles ASC LIMIT 0 3"
   ]
  },
  {
   "cell_type": "markdown",
   "metadata": {},
   "source": [
    "## Pinot"
   ]
  },
  {
   "cell_type": "markdown",
   "metadata": {},
   "source": [
    "```sql\n",
    "SELECT uuid,\n",
    "  dob,\n",
    "  STDistance(\n",
    "    point_h3,\n",
    "    toSphericalGeography(ST_GeomFromText('POINT (-105.0810 38.9922)'))\n",
    "  ) / 1609.344 AS miles\n",
    "FROM locations\n",
    "WHERE (\n",
    "    dob = 2010\n",
    "  )\n",
    "ORDER BY miles ASC\n",
    "LIMIT 3;\n",
    "```"
   ]
  },
  {
   "cell_type": "code",
   "execution_count": 6,
   "metadata": {
    "vscode": {
     "languageId": "shellscript"
    }
   },
   "outputs": [
    {
     "name": "stdout",
     "output_type": "stream",
     "text": [
      "\u001b[1;39m{\n",
      "  \u001b[0m\u001b[1;34m\"dataSchema\"\u001b[0m\u001b[1;39m: \u001b[0m\u001b[1;39m{\n",
      "    \u001b[0m\u001b[1;34m\"columnNames\"\u001b[0m\u001b[1;39m: \u001b[0m\u001b[1;39m[\n",
      "      \u001b[0;32m\"uuid\"\u001b[0m\u001b[1;39m,\n",
      "      \u001b[0;32m\"dob\"\u001b[0m\u001b[1;39m,\n",
      "      \u001b[0;32m\"miles\"\u001b[0m\u001b[1;39m\n",
      "    \u001b[1;39m]\u001b[0m\u001b[1;39m,\n",
      "    \u001b[0m\u001b[1;34m\"columnDataTypes\"\u001b[0m\u001b[1;39m: \u001b[0m\u001b[1;39m[\n",
      "      \u001b[0;32m\"STRING\"\u001b[0m\u001b[1;39m,\n",
      "      \u001b[0;32m\"LONG\"\u001b[0m\u001b[1;39m,\n",
      "      \u001b[0;32m\"DOUBLE\"\u001b[0m\u001b[1;39m\n",
      "    \u001b[1;39m]\u001b[0m\u001b[1;39m\n",
      "  \u001b[1;39m}\u001b[0m\u001b[1;39m,\n",
      "  \u001b[0m\u001b[1;34m\"rows\"\u001b[0m\u001b[1;39m: \u001b[0m\u001b[1;39m[\n",
      "    \u001b[1;39m[\n",
      "      \u001b[0;32m\"0053c263-898f-4bc8-95a4-9d16e19bf572\"\u001b[0m\u001b[1;39m,\n",
      "      \u001b[0;39m2010\u001b[0m\u001b[1;39m,\n",
      "      \u001b[0;39m3.899834943756114\u001b[0m\u001b[1;39m\n",
      "    \u001b[1;39m]\u001b[0m\u001b[1;39m,\n",
      "    \u001b[1;39m[\n",
      "      \u001b[0;32m\"959dac55-29e1-405e-8a7b-48262d469d62\"\u001b[0m\u001b[1;39m,\n",
      "      \u001b[0;39m2010\u001b[0m\u001b[1;39m,\n",
      "      \u001b[0;39m4.76805781165741\u001b[0m\u001b[1;39m\n",
      "    \u001b[1;39m]\u001b[0m\u001b[1;39m,\n",
      "    \u001b[1;39m[\n",
      "      \u001b[0;32m\"1f351056-30b1-44a0-8cc7-92fa34a43c30\"\u001b[0m\u001b[1;39m,\n",
      "      \u001b[0;39m2010\u001b[0m\u001b[1;39m,\n",
      "      \u001b[0;39m6.278809589188614\u001b[0m\u001b[1;39m\n",
      "    \u001b[1;39m]\u001b[0m\u001b[1;39m\n",
      "  \u001b[1;39m]\u001b[0m\u001b[1;39m\n",
      "\u001b[1;39m}\u001b[0m\n"
     ]
    }
   ],
   "source": [
    "! curl -s -X POST -H \"Content-Type: application/json\" -d @../pinot/s3.json http://localhost:8099/query/sql | jq '.resultTable'"
   ]
  },
  {
   "cell_type": "markdown",
   "metadata": {},
   "source": [
    "# Find the count of users within the State of Colorado"
   ]
  },
  {
   "cell_type": "markdown",
   "metadata": {},
   "source": [
    "![Colorado](../data/co.png)"
   ]
  },
  {
   "cell_type": "markdown",
   "metadata": {},
   "source": [
    "## Redis"
   ]
  },
  {
   "cell_type": "code",
   "execution_count": 7,
   "metadata": {
    "vscode": {
     "languageId": "shellscript"
    }
   },
   "outputs": [
    {
     "name": "stdout",
     "output_type": "stream",
     "text": [
      "1# attributes => (empty array)\n",
      "2# warning => (empty array)\n",
      "3# total_results => (integer) 12500\n",
      "4# format => STRING\n",
      "5# results => (empty array)\n"
     ]
    }
   ],
   "source": [
    "! redis-cli -p 12000 -3 FT.SEARCH locationidx '@point_wkt:[WITHIN $Colorado]' PARAMS 2 Colorado 'POLYGON((-109.0448 37.0004,-102.0424 36.9949,-102.0534 41.0006,-109.0489 40.9996,-109.0448 37.0004,-109.0448 37.0004))' LIMIT 0 0 DIALECT 2"
   ]
  },
  {
   "cell_type": "markdown",
   "metadata": {},
   "source": [
    "## Pinot"
   ]
  },
  {
   "cell_type": "markdown",
   "metadata": {},
   "source": [
    "```sql\n",
    "SELECT COUNT(*) AS CO_Total\n",
    "FROM locations\n",
    "WHERE ST_Within(\n",
    "    point_h3,\n",
    "    toSphericalGeography(\n",
    "      ST_GeomFromText(\n",
    "        'POLYGON((-109.0448 37.0004,-102.0424 36.9949,-102.0534 41.0006,-109.0489 40.9996,-109.0448 37.0004,-109.0448 37.0004))'\n",
    "      )\n",
    "    )\n",
    "  ) IS True;\n",
    "```"
   ]
  },
  {
   "cell_type": "code",
   "execution_count": 8,
   "metadata": {
    "vscode": {
     "languageId": "shellscript"
    }
   },
   "outputs": [
    {
     "name": "stdout",
     "output_type": "stream",
     "text": [
      "\u001b[1;39m{\n",
      "  \u001b[0m\u001b[1;34m\"dataSchema\"\u001b[0m\u001b[1;39m: \u001b[0m\u001b[1;39m{\n",
      "    \u001b[0m\u001b[1;34m\"columnNames\"\u001b[0m\u001b[1;39m: \u001b[0m\u001b[1;39m[\n",
      "      \u001b[0;32m\"CO_Total\"\u001b[0m\u001b[1;39m\n",
      "    \u001b[1;39m]\u001b[0m\u001b[1;39m,\n",
      "    \u001b[0m\u001b[1;34m\"columnDataTypes\"\u001b[0m\u001b[1;39m: \u001b[0m\u001b[1;39m[\n",
      "      \u001b[0;32m\"LONG\"\u001b[0m\u001b[1;39m\n",
      "    \u001b[1;39m]\u001b[0m\u001b[1;39m\n",
      "  \u001b[1;39m}\u001b[0m\u001b[1;39m,\n",
      "  \u001b[0m\u001b[1;34m\"rows\"\u001b[0m\u001b[1;39m: \u001b[0m\u001b[1;39m[\n",
      "    \u001b[1;39m[\n",
      "      \u001b[0;39m12500\u001b[0m\u001b[1;39m\n",
      "    \u001b[1;39m]\u001b[0m\u001b[1;39m\n",
      "  \u001b[1;39m]\u001b[0m\u001b[1;39m\n",
      "\u001b[1;39m}\u001b[0m\n"
     ]
    }
   ],
   "source": [
    "! curl -s -X POST -H \"Content-Type: application/json\" -d @../pinot/s4.json http://localhost:8099/query/sql | jq '.resultTable'"
   ]
  },
  {
   "cell_type": "markdown",
   "metadata": {},
   "source": [
    "# Find the count of users by year of birth that are in either of the 2 polygons in the Woodland Park CO area.  Sort by year, ascending."
   ]
  },
  {
   "cell_type": "markdown",
   "metadata": {},
   "source": [
    "![WP](../data/wp.png)"
   ]
  },
  {
   "cell_type": "markdown",
   "metadata": {},
   "source": [
    "## Redis"
   ]
  },
  {
   "cell_type": "code",
   "execution_count": 9,
   "metadata": {
    "vscode": {
     "languageId": "shellscript"
    }
   },
   "outputs": [
    {
     "name": "stdout",
     "output_type": "stream",
     "text": [
      "1# attributes => (empty array)\n",
      "2# total_results => (integer) 14\n",
      "3# format => STRING\n",
      "4# results => \n",
      "    1) 1# extra_attributes => \n",
      "          1# \"dob\" => \"1937\"\n",
      "          2# \"Total\" => \"2\"\n",
      "       2# values => (empty array)\n",
      "    2) 1# extra_attributes => \n",
      "          1# \"dob\" => \"1996\"\n",
      "          2# \"Total\" => \"2\"\n",
      "       2# values => (empty array)\n",
      "    3) 1# extra_attributes => \n",
      "          1# \"dob\" => \"1953\"\n",
      "          2# \"Total\" => \"1\"\n",
      "       2# values => (empty array)\n",
      "    4) 1# extra_attributes => \n",
      "          1# \"dob\" => \"1982\"\n",
      "          2# \"Total\" => \"1\"\n",
      "       2# values => (empty array)\n",
      "    5) 1# extra_attributes => \n",
      "          1# \"dob\" => \"2009\"\n",
      "          2# \"Total\" => \"1\"\n",
      "       2# values => (empty array)\n",
      "    6) 1# extra_attributes => \n",
      "          1# \"dob\" => \"1950\"\n",
      "          2# \"Total\" => \"1\"\n",
      "       2# values => (empty array)\n",
      "    7) 1# extra_attributes => \n",
      "          1# \"dob\" => \"1993\"\n",
      "          2# \"Total\" => \"1\"\n",
      "       2# values => (empty array)\n",
      "    8) 1# extra_attributes => \n",
      "          1# \"dob\" => \"1955\"\n",
      "          2# \"Total\" => \"1\"\n",
      "       2# values => (empty array)\n",
      "    9) 1# extra_attributes => \n",
      "          1# \"dob\" => \"1969\"\n",
      "          2# \"Total\" => \"1\"\n",
      "       2# values => (empty array)\n",
      "   10) 1# extra_attributes => \n",
      "          1# \"dob\" => \"2002\"\n",
      "          2# \"Total\" => \"1\"\n",
      "       2# values => (empty array)\n",
      "5# warning => (empty array)\n"
     ]
    }
   ],
   "source": [
    "! redis-cli -p 12000 -3 FT.AGGREGATE locationidx '(@point_wkt:[WITHIN $WP1] | @point_wkt:[WITHIN $WP2])' PARAMS 4 WP1 'POLYGON((-105.080 38.980, -105.020 38.980, -105.020 38.920, -105.080 38.920, -105.080 38.980))' WP2 'POLYGON((-105.110 38.960, -105.050 38.960, -105.050 38.900, -105.110 38.900, -105.110 38.960))' LOAD 1 @dob GROUPBY 1 @dob REDUCE COUNT 0 AS Total SORTBY 2 @Total DESC DIALECT 2"
   ]
  },
  {
   "cell_type": "markdown",
   "metadata": {},
   "source": [
    "## Pinot"
   ]
  },
  {
   "cell_type": "markdown",
   "metadata": {},
   "source": [
    "```sql\n",
    "SELECT dob,\n",
    "  COUNT(*) AS Total\n",
    "FROM locations\n",
    "WHERE ST_Within(\n",
    "    point_h3,\n",
    "    toSphericalGeography(\n",
    "      ST_GeomFromText(\n",
    "        'POLYGON((-105.080 38.980, -105.020 38.980, -105.020 38.920, -105.080 38.920, -105.080 38.980))'\n",
    "      )\n",
    "    )\n",
    "  ) IS True\n",
    "  OR ST_Within(\n",
    "    point_h3,\n",
    "    toSphericalGeography(\n",
    "      ST_GeomFromText(\n",
    "        'POLYGON((-105.110 38.960, -105.050 38.960, -105.050 38.900, -105.110 38.900, -105.110 38.960))'\n",
    "      )\n",
    "    )\n",
    "  ) IS True\n",
    "GROUP BY dob\n",
    "ORDER BY Total DESC;\n",
    "```"
   ]
  },
  {
   "cell_type": "code",
   "execution_count": 10,
   "metadata": {
    "vscode": {
     "languageId": "shellscript"
    }
   },
   "outputs": [
    {
     "name": "stdout",
     "output_type": "stream",
     "text": [
      "\u001b[1;39m{\n",
      "  \u001b[0m\u001b[1;34m\"dataSchema\"\u001b[0m\u001b[1;39m: \u001b[0m\u001b[1;39m{\n",
      "    \u001b[0m\u001b[1;34m\"columnNames\"\u001b[0m\u001b[1;39m: \u001b[0m\u001b[1;39m[\n",
      "      \u001b[0;32m\"dob\"\u001b[0m\u001b[1;39m,\n",
      "      \u001b[0;32m\"Total\"\u001b[0m\u001b[1;39m\n",
      "    \u001b[1;39m]\u001b[0m\u001b[1;39m,\n",
      "    \u001b[0m\u001b[1;34m\"columnDataTypes\"\u001b[0m\u001b[1;39m: \u001b[0m\u001b[1;39m[\n",
      "      \u001b[0;32m\"LONG\"\u001b[0m\u001b[1;39m,\n",
      "      \u001b[0;32m\"LONG\"\u001b[0m\u001b[1;39m\n",
      "    \u001b[1;39m]\u001b[0m\u001b[1;39m\n",
      "  \u001b[1;39m}\u001b[0m\u001b[1;39m,\n",
      "  \u001b[0m\u001b[1;34m\"rows\"\u001b[0m\u001b[1;39m: \u001b[0m\u001b[1;39m[\n",
      "    \u001b[1;39m[\n",
      "      \u001b[0;39m1937\u001b[0m\u001b[1;39m,\n",
      "      \u001b[0;39m2\u001b[0m\u001b[1;39m\n",
      "    \u001b[1;39m]\u001b[0m\u001b[1;39m,\n",
      "    \u001b[1;39m[\n",
      "      \u001b[0;39m1996\u001b[0m\u001b[1;39m,\n",
      "      \u001b[0;39m2\u001b[0m\u001b[1;39m\n",
      "    \u001b[1;39m]\u001b[0m\u001b[1;39m,\n",
      "    \u001b[1;39m[\n",
      "      \u001b[0;39m1953\u001b[0m\u001b[1;39m,\n",
      "      \u001b[0;39m1\u001b[0m\u001b[1;39m\n",
      "    \u001b[1;39m]\u001b[0m\u001b[1;39m,\n",
      "    \u001b[1;39m[\n",
      "      \u001b[0;39m1967\u001b[0m\u001b[1;39m,\n",
      "      \u001b[0;39m1\u001b[0m\u001b[1;39m\n",
      "    \u001b[1;39m]\u001b[0m\u001b[1;39m,\n",
      "    \u001b[1;39m[\n",
      "      \u001b[0;39m1969\u001b[0m\u001b[1;39m,\n",
      "      \u001b[0;39m1\u001b[0m\u001b[1;39m\n",
      "    \u001b[1;39m]\u001b[0m\u001b[1;39m,\n",
      "    \u001b[1;39m[\n",
      "      \u001b[0;39m1970\u001b[0m\u001b[1;39m,\n",
      "      \u001b[0;39m1\u001b[0m\u001b[1;39m\n",
      "    \u001b[1;39m]\u001b[0m\u001b[1;39m,\n",
      "    \u001b[1;39m[\n",
      "      \u001b[0;39m1990\u001b[0m\u001b[1;39m,\n",
      "      \u001b[0;39m1\u001b[0m\u001b[1;39m\n",
      "    \u001b[1;39m]\u001b[0m\u001b[1;39m,\n",
      "    \u001b[1;39m[\n",
      "      \u001b[0;39m1982\u001b[0m\u001b[1;39m,\n",
      "      \u001b[0;39m1\u001b[0m\u001b[1;39m\n",
      "    \u001b[1;39m]\u001b[0m\u001b[1;39m,\n",
      "    \u001b[1;39m[\n",
      "      \u001b[0;39m1993\u001b[0m\u001b[1;39m,\n",
      "      \u001b[0;39m1\u001b[0m\u001b[1;39m\n",
      "    \u001b[1;39m]\u001b[0m\u001b[1;39m,\n",
      "    \u001b[1;39m[\n",
      "      \u001b[0;39m1955\u001b[0m\u001b[1;39m,\n",
      "      \u001b[0;39m1\u001b[0m\u001b[1;39m\n",
      "    \u001b[1;39m]\u001b[0m\u001b[1;39m\n",
      "  \u001b[1;39m]\u001b[0m\u001b[1;39m\n",
      "\u001b[1;39m}\u001b[0m\n"
     ]
    }
   ],
   "source": [
    "! curl -s -X POST -H \"Content-Type: application/json\" -d @../pinot/s5.json http://localhost:8099/query/sql | jq '.resultTable'"
   ]
  }
 ],
 "metadata": {
  "kernelspec": {
   "display_name": ".venv",
   "language": "python",
   "name": "python3"
  },
  "language_info": {
   "codemirror_mode": {
    "name": "ipython",
    "version": 3
   },
   "file_extension": ".py",
   "mimetype": "text/x-python",
   "name": "python",
   "nbconvert_exporter": "python",
   "pygments_lexer": "ipython3",
   "version": "3.12.3"
  }
 },
 "nbformat": 4,
 "nbformat_minor": 2
}
