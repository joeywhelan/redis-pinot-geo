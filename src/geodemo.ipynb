{
 "cells": [
  {
   "cell_type": "markdown",
   "metadata": {},
   "source": [
    "# Scenario 1:  Find Number of Records Indexed"
   ]
  },
  {
   "cell_type": "markdown",
   "metadata": {},
   "source": [
    "## Redis"
   ]
  },
  {
   "cell_type": "code",
   "execution_count": 2,
   "metadata": {
    "vscode": {
     "languageId": "shellscript"
    }
   },
   "outputs": [
    {
     "name": "stdout",
     "output_type": "stream",
     "text": [
      "1# attributes => (empty array)\n",
      "2# warning => (empty array)\n",
      "3# total_results => (integer) 1000000\n",
      "4# format => STRING\n",
      "5# results => (empty array)\n"
     ]
    }
   ],
   "source": [
    "! redis-cli -p 12000 -3 FT.SEARCH locationidx \\* LIMIT 0 0"
   ]
  },
  {
   "cell_type": "markdown",
   "metadata": {},
   "source": [
    "## Pinot"
   ]
  },
  {
   "cell_type": "markdown",
   "metadata": {},
   "source": [
    "```sql\n",
    "SELECT COUNT(*) AS Count\n",
    "FROM locations;\n",
    "```"
   ]
  },
  {
   "cell_type": "code",
   "execution_count": 3,
   "metadata": {
    "vscode": {
     "languageId": "shellscript"
    }
   },
   "outputs": [],
   "source": [
    "! curl -s -X POST -H \"Content-Type: application/json\" -d @../pinot/s1.json http://localhost:8099/query/sql | jq '.resultTable'"
   ]
  },
  {
   "cell_type": "markdown",
   "metadata": {},
   "source": [
    "# Scenario 2:  Display 1 Sample Record"
   ]
  },
  {
   "cell_type": "markdown",
   "metadata": {},
   "source": [
    "## Redis"
   ]
  },
  {
   "cell_type": "code",
   "execution_count": null,
   "metadata": {
    "vscode": {
     "languageId": "shellscript"
    }
   },
   "outputs": [
    {
     "name": "stdout",
     "output_type": "stream",
     "text": [
      "1# attributes => (empty array)\n",
      "2# warning => (empty array)\n",
      "3# total_results => (integer) 1000000\n",
      "4# format => STRING\n",
      "5# results => \n",
      "   1) 1# id => \"location:b9ec8654-a55c-490e-a372-e78143f1d623\"\n",
      "      2# extra_attributes => 1# \"$\" => \"{\\\"uuid\\\":\\\"b9ec8654-a55c-490e-a372-e78143f1d623\\\",\\\"point_lnglat\\\":\\\"-88.45195 42.12357\\\",\\\"point_wkt\\\":\\\"POINT (-88.45195 42.12357)\\\",\\\"dob\\\":1945}\"\n",
      "      3# values => (empty array)\n"
     ]
    }
   ],
   "source": [
    "! redis-cli -p 12000 -3 FT.SEARCH locationidx \\* LIMIT 0 1"
   ]
  },
  {
   "cell_type": "markdown",
   "metadata": {},
   "source": [
    "## Pinot"
   ]
  },
  {
   "cell_type": "markdown",
   "metadata": {},
   "source": [
    "```sql\n",
    "SELECT *\n",
    "FROM locations\n",
    "LIMIT 1;\n",
    "```"
   ]
  },
  {
   "cell_type": "code",
   "execution_count": 4,
   "metadata": {
    "vscode": {
     "languageId": "shellscript"
    }
   },
   "outputs": [],
   "source": [
    "! curl -s -X POST -H \"Content-Type: application/json\" -d @../pinot/s2.json http://localhost:8099/query/sql | jq '.resultTable'"
   ]
  },
  {
   "cell_type": "markdown",
   "metadata": {},
   "source": [
    "# Find the UUIDs for the 3 closest users to Woodland Park, CO (-105.0810 38.9922) born in 2010 "
   ]
  },
  {
   "cell_type": "markdown",
   "metadata": {},
   "source": [
    "## Redis"
   ]
  },
  {
   "cell_type": "code",
   "execution_count": 5,
   "metadata": {
    "vscode": {
     "languageId": "shellscript"
    }
   },
   "outputs": [
    {
     "name": "stdout",
     "output_type": "stream",
     "text": [
      "1# attributes => (empty array)\n",
      "2# total_results => (integer) 3\n",
      "3# format => STRING\n",
      "4# results => \n",
      "   1) 1# extra_attributes => \n",
      "         1# \"uuid\" => \"1c8571ab-679f-4b45-bbd3-3a62d201053f\"\n",
      "         2# \"dob\" => \"2010\"\n",
      "         3# \"point_lnglat\" => \"-105.08797 38.97149\"\n",
      "         4# \"miles\" => \"1.47949677842\"\n",
      "      2# values => (empty array)\n",
      "   2) 1# extra_attributes => \n",
      "         1# \"uuid\" => \"16f90c6b-d1fa-40d0-a486-b47cb880420b\"\n",
      "         2# \"dob\" => \"2010\"\n",
      "         3# \"point_lnglat\" => \"-105.02237 38.99941\"\n",
      "         4# \"miles\" => \"3.18842858488\"\n",
      "      2# values => (empty array)\n",
      "   3) 1# extra_attributes => \n",
      "         1# \"uuid\" => \"d3f09f54-f12a-4158-a028-b49981ea6e56\"\n",
      "         2# \"dob\" => \"2010\"\n",
      "         3# \"point_lnglat\" => \"-105.0723 39.07854\"\n",
      "         4# \"miles\" => \"5.98544936315\"\n",
      "      2# values => (empty array)\n",
      "5# warning => (empty array)\n"
     ]
    }
   ],
   "source": [
    "! redis-cli -p 12000 -3 FT.AGGREGATE locationidx '@dob:[2010 2010]' LOAD 3 @uuid @dob @point_lnglat APPLY 'geodistance(@point_lnglat, -105.0810, 38.9922) * 0.000621371' AS miles SORTBY 2 @miles ASC LIMIT 0 3"
   ]
  },
  {
   "cell_type": "markdown",
   "metadata": {},
   "source": [
    "## Pinot"
   ]
  },
  {
   "cell_type": "markdown",
   "metadata": {},
   "source": [
    "```sql\n",
    "SELECT uuid,\n",
    "  dob,\n",
    "  STDistance(\n",
    "    point_h3,\n",
    "    toSphericalGeography(ST_GeomFromText('POINT (-105.0810 38.9922)'))\n",
    "  ) / 1609.344 AS miles\n",
    "FROM locations\n",
    "WHERE (\n",
    "    dob = 2010\n",
    "  )\n",
    "ORDER BY miles ASC\n",
    "LIMIT 3;\n",
    "```"
   ]
  },
  {
   "cell_type": "code",
   "execution_count": 6,
   "metadata": {
    "vscode": {
     "languageId": "shellscript"
    }
   },
   "outputs": [],
   "source": [
    "! curl -s -X POST -H \"Content-Type: application/json\" -d @../pinot/s3.json http://localhost:8099/query/sql | jq '.resultTable'"
   ]
  },
  {
   "cell_type": "markdown",
   "metadata": {},
   "source": [
    "# Find the count of users within the State of Colorado"
   ]
  },
  {
   "cell_type": "markdown",
   "metadata": {},
   "source": [
    "![Colorado](../data/co.png)"
   ]
  },
  {
   "cell_type": "markdown",
   "metadata": {},
   "source": [
    "## Redis"
   ]
  },
  {
   "cell_type": "code",
   "execution_count": 7,
   "metadata": {
    "vscode": {
     "languageId": "shellscript"
    }
   },
   "outputs": [
    {
     "name": "stdout",
     "output_type": "stream",
     "text": [
      "1# attributes => (empty array)\n",
      "2# warning => (empty array)\n",
      "3# total_results => (integer) 12500\n",
      "4# format => STRING\n",
      "5# results => (empty array)\n"
     ]
    }
   ],
   "source": [
    "! redis-cli -p 12000 -3 FT.SEARCH locationidx '@point_wkt:[WITHIN $Colorado]' PARAMS 2 Colorado 'POLYGON((-109.0448 37.0004,-102.0424 36.9949,-102.0534 41.0006,-109.0489 40.9996,-109.0448 37.0004,-109.0448 37.0004))' LIMIT 0 0 DIALECT 2"
   ]
  },
  {
   "cell_type": "markdown",
   "metadata": {},
   "source": [
    "## Pinot"
   ]
  },
  {
   "cell_type": "markdown",
   "metadata": {},
   "source": [
    "```sql\n",
    "SELECT COUNT(*) AS CO_Total\n",
    "FROM locations\n",
    "WHERE ST_Within(\n",
    "    point_h3,\n",
    "    toSphericalGeography(\n",
    "      ST_GeomFromText(\n",
    "        'POLYGON((-109.0448 37.0004,-102.0424 36.9949,-102.0534 41.0006,-109.0489 40.9996,-109.0448 37.0004,-109.0448 37.0004))'\n",
    "      )\n",
    "    )\n",
    "  ) IS True;\n",
    "```"
   ]
  },
  {
   "cell_type": "code",
   "execution_count": 8,
   "metadata": {
    "vscode": {
     "languageId": "shellscript"
    }
   },
   "outputs": [],
   "source": [
    "! curl -s -X POST -H \"Content-Type: application/json\" -d @../pinot/s4.json http://localhost:8099/query/sql | jq '.resultTable'"
   ]
  },
  {
   "cell_type": "markdown",
   "metadata": {},
   "source": [
    "# Find the count of users by year of birth that are in either of the 2 polygons in the Woodland Park CO area.  Sort by year, ascending."
   ]
  },
  {
   "cell_type": "markdown",
   "metadata": {},
   "source": [
    "![WP](../data/wp.png)"
   ]
  },
  {
   "cell_type": "markdown",
   "metadata": {},
   "source": [
    "## Redis"
   ]
  },
  {
   "cell_type": "code",
   "execution_count": 1,
   "metadata": {
    "vscode": {
     "languageId": "shellscript"
    }
   },
   "outputs": [
    {
     "name": "stdout",
     "output_type": "stream",
     "text": [
      "1# attributes => (empty array)\n",
      "2# total_results => (integer) 15\n",
      "3# format => STRING\n",
      "4# results => \n",
      "    1) 1# extra_attributes => \n",
      "          1# \"dob\" => \"1966\"\n",
      "          2# \"Total\" => \"2\"\n",
      "       2# values => (empty array)\n",
      "    2) 1# extra_attributes => \n",
      "          1# \"dob\" => \"1934\"\n",
      "          2# \"Total\" => \"1\"\n",
      "       2# values => (empty array)\n",
      "    3) 1# extra_attributes => \n",
      "          1# \"dob\" => \"1965\"\n",
      "          2# \"Total\" => \"1\"\n",
      "       2# values => (empty array)\n",
      "    4) 1# extra_attributes => \n",
      "          1# \"dob\" => \"1999\"\n",
      "          2# \"Total\" => \"1\"\n",
      "       2# values => (empty array)\n",
      "    5) 1# extra_attributes => \n",
      "          1# \"dob\" => \"1941\"\n",
      "          2# \"Total\" => \"1\"\n",
      "       2# values => (empty array)\n",
      "    6) 1# extra_attributes => \n",
      "          1# \"dob\" => \"1944\"\n",
      "          2# \"Total\" => \"1\"\n",
      "       2# values => (empty array)\n",
      "    7) 1# extra_attributes => \n",
      "          1# \"dob\" => \"1961\"\n",
      "          2# \"Total\" => \"1\"\n",
      "       2# values => (empty array)\n",
      "    8) 1# extra_attributes => \n",
      "          1# \"dob\" => \"1987\"\n",
      "          2# \"Total\" => \"1\"\n",
      "       2# values => (empty array)\n",
      "    9) 1# extra_attributes => \n",
      "          1# \"dob\" => \"2014\"\n",
      "          2# \"Total\" => \"1\"\n",
      "       2# values => (empty array)\n",
      "   10) 1# extra_attributes => \n",
      "          1# \"dob\" => \"1964\"\n",
      "          2# \"Total\" => \"1\"\n",
      "       2# values => (empty array)\n",
      "5# warning => (empty array)\n"
     ]
    }
   ],
   "source": [
    "! redis-cli -p 12000 -3 FT.AGGREGATE locationidx '(@point_wkt:[WITHIN $WP1] | @point_wkt:[WITHIN $WP2])' PARAMS 4 WP1 'POLYGON((-105.080 38.980, -105.020 38.980, -105.020 38.920, -105.080 38.920, -105.080 38.980))' WP2 'POLYGON((-105.110 38.960, -105.050 38.960, -105.050 38.900, -105.110 38.900, -105.110 38.960))' LOAD 1 @dob GROUPBY 1 @dob REDUCE COUNT 0 AS Total SORTBY 2 @Total DESC DIALECT 2"
   ]
  },
  {
   "cell_type": "markdown",
   "metadata": {},
   "source": [
    "## Pinot"
   ]
  },
  {
   "cell_type": "markdown",
   "metadata": {},
   "source": [
    "```sql\n",
    "SELECT dob,\n",
    "  COUNT(*) AS Total\n",
    "FROM locations\n",
    "WHERE ST_Within(\n",
    "    point_h3,\n",
    "    toSphericalGeography(\n",
    "      ST_GeomFromText(\n",
    "        'POLYGON((-105.080 38.980, -105.020 38.980, -105.020 38.920, -105.080 38.920, -105.080 38.980))'\n",
    "      )\n",
    "    )\n",
    "  ) IS True\n",
    "  OR ST_Within(\n",
    "    point_h3,\n",
    "    toSphericalGeography(\n",
    "      ST_GeomFromText(\n",
    "        'POLYGON((-105.110 38.960, -105.050 38.960, -105.050 38.900, -105.110 38.900, -105.110 38.960))'\n",
    "      )\n",
    "    )\n",
    "  ) IS True\n",
    "GROUP BY dob\n",
    "ORDER BY Total DESC;\n",
    "```"
   ]
  },
  {
   "cell_type": "code",
   "execution_count": 2,
   "metadata": {
    "vscode": {
     "languageId": "shellscript"
    }
   },
   "outputs": [
    {
     "name": "stdout",
     "output_type": "stream",
     "text": [
      "\u001b[1;39m{\n",
      "  \u001b[0m\u001b[1;34m\"dataSchema\"\u001b[0m\u001b[1;39m: \u001b[0m\u001b[1;39m{\n",
      "    \u001b[0m\u001b[1;34m\"columnNames\"\u001b[0m\u001b[1;39m: \u001b[0m\u001b[1;39m[\n",
      "      \u001b[0;32m\"dob\"\u001b[0m\u001b[1;39m,\n",
      "      \u001b[0;32m\"Total\"\u001b[0m\u001b[1;39m\n",
      "    \u001b[1;39m]\u001b[0m\u001b[1;39m,\n",
      "    \u001b[0m\u001b[1;34m\"columnDataTypes\"\u001b[0m\u001b[1;39m: \u001b[0m\u001b[1;39m[\n",
      "      \u001b[0;32m\"LONG\"\u001b[0m\u001b[1;39m,\n",
      "      \u001b[0;32m\"LONG\"\u001b[0m\u001b[1;39m\n",
      "    \u001b[1;39m]\u001b[0m\u001b[1;39m\n",
      "  \u001b[1;39m}\u001b[0m\u001b[1;39m,\n",
      "  \u001b[0m\u001b[1;34m\"rows\"\u001b[0m\u001b[1;39m: \u001b[0m\u001b[1;39m[\n",
      "    \u001b[1;39m[\n",
      "      \u001b[0;39m1966\u001b[0m\u001b[1;39m,\n",
      "      \u001b[0;39m2\u001b[0m\u001b[1;39m\n",
      "    \u001b[1;39m]\u001b[0m\u001b[1;39m,\n",
      "    \u001b[1;39m[\n",
      "      \u001b[0;39m1944\u001b[0m\u001b[1;39m,\n",
      "      \u001b[0;39m1\u001b[0m\u001b[1;39m\n",
      "    \u001b[1;39m]\u001b[0m\u001b[1;39m,\n",
      "    \u001b[1;39m[\n",
      "      \u001b[0;39m1961\u001b[0m\u001b[1;39m,\n",
      "      \u001b[0;39m1\u001b[0m\u001b[1;39m\n",
      "    \u001b[1;39m]\u001b[0m\u001b[1;39m,\n",
      "    \u001b[1;39m[\n",
      "      \u001b[0;39m1962\u001b[0m\u001b[1;39m,\n",
      "      \u001b[0;39m1\u001b[0m\u001b[1;39m\n",
      "    \u001b[1;39m]\u001b[0m\u001b[1;39m,\n",
      "    \u001b[1;39m[\n",
      "      \u001b[0;39m1964\u001b[0m\u001b[1;39m,\n",
      "      \u001b[0;39m1\u001b[0m\u001b[1;39m\n",
      "    \u001b[1;39m]\u001b[0m\u001b[1;39m,\n",
      "    \u001b[1;39m[\n",
      "      \u001b[0;39m1965\u001b[0m\u001b[1;39m,\n",
      "      \u001b[0;39m1\u001b[0m\u001b[1;39m\n",
      "    \u001b[1;39m]\u001b[0m\u001b[1;39m,\n",
      "    \u001b[1;39m[\n",
      "      \u001b[0;39m1941\u001b[0m\u001b[1;39m,\n",
      "      \u001b[0;39m1\u001b[0m\u001b[1;39m\n",
      "    \u001b[1;39m]\u001b[0m\u001b[1;39m,\n",
      "    \u001b[1;39m[\n",
      "      \u001b[0;39m1980\u001b[0m\u001b[1;39m,\n",
      "      \u001b[0;39m1\u001b[0m\u001b[1;39m\n",
      "    \u001b[1;39m]\u001b[0m\u001b[1;39m,\n",
      "    \u001b[1;39m[\n",
      "      \u001b[0;39m1986\u001b[0m\u001b[1;39m,\n",
      "      \u001b[0;39m1\u001b[0m\u001b[1;39m\n",
      "    \u001b[1;39m]\u001b[0m\u001b[1;39m,\n",
      "    \u001b[1;39m[\n",
      "      \u001b[0;39m1934\u001b[0m\u001b[1;39m,\n",
      "      \u001b[0;39m1\u001b[0m\u001b[1;39m\n",
      "    \u001b[1;39m]\u001b[0m\u001b[1;39m\n",
      "  \u001b[1;39m]\u001b[0m\u001b[1;39m\n",
      "\u001b[1;39m}\u001b[0m\n"
     ]
    }
   ],
   "source": [
    "! curl -s -X POST -H \"Content-Type: application/json\" -d @../pinot/s5.json http://localhost:8099/query/sql | jq '.resultTable'"
   ]
  }
 ],
 "metadata": {
  "kernelspec": {
   "display_name": ".venv",
   "language": "python",
   "name": "python3"
  },
  "language_info": {
   "codemirror_mode": {
    "name": "ipython",
    "version": 3
   },
   "file_extension": ".py",
   "mimetype": "text/x-python",
   "name": "python",
   "nbconvert_exporter": "python",
   "pygments_lexer": "ipython3",
   "version": "3.12.3"
  }
 },
 "nbformat": 4,
 "nbformat_minor": 2
}
